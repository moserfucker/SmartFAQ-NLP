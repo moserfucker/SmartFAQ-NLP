{
  "cells": [
    {
      "cell_type": "code",
      "metadata": {
        "tags": [],
        "cell_id": "00000-17065bab-cf6a-4dec-a3f1-0aa48255b9c2",
        "deepnote_to_be_reexecuted": false,
        "source_hash": "ba1540e8",
        "execution_millis": 1535,
        "execution_start": 1616068752293,
        "deepnote_cell_type": "code"
      },
      "source": "import pandas as pd\nfrom sklearn.model_selection import train_test_split\nfrom sklearn.feature_extraction.text import CountVectorizer\nfrom sklearn.feature_extraction.text import TfidfTransformer\nfrom sklearn.naive_bayes import MultinomialNB\nfrom sklearn.ensemble import RandomForestClassifier\nfrom sklearn.neural_network import MLPClassifier\nfrom sklearn.metrics import precision_recall_fscore_support\nimport matplotlib.pyplot as plt\nimport re",
      "execution_count": null,
      "outputs": []
    },
    {
      "cell_type": "code",
      "metadata": {
        "tags": [],
        "cell_id": "00001-cd536ad3-2855-4763-bcbf-394b3c944544",
        "deepnote_to_be_reexecuted": false,
        "source_hash": "bfe59ab4",
        "execution_millis": 31842,
        "execution_start": 1616068756604,
        "deepnote_cell_type": "code"
      },
      "source": "df = pd.read_csv('../data/Questions.csv', encoding='ISO-8859-1')\ndf_answer = pd.read_csv('../data/Answers.csv', encoding='ISO-8859-1')",
      "execution_count": null,
      "outputs": []
    },
    {
      "cell_type": "code",
      "metadata": {
        "tags": [],
        "cell_id": "00002-0d14ae42-d989-4a2d-9fb6-0ea293953214",
        "deepnote_to_be_reexecuted": false,
        "source_hash": "b623e53d",
        "execution_millis": 1,
        "execution_start": 1616068788447,
        "deepnote_cell_type": "code"
      },
      "source": "",
      "execution_count": null,
      "outputs": []
    },
    {
      "cell_type": "code",
      "metadata": {
        "tags": [],
        "cell_id": "00002-55f09480-87fd-41aa-9f1d-5f90b1d9de75",
        "deepnote_to_be_reexecuted": false,
        "source_hash": "41a1dd2d",
        "execution_millis": 1528,
        "execution_start": 1616068788448,
        "deepnote_cell_type": "code"
      },
      "source": "df['all_text'] = df['Title'] + ' ' + df['Body']",
      "execution_count": null,
      "outputs": []
    },
    {
      "cell_type": "code",
      "metadata": {
        "tags": [],
        "cell_id": "00004-b9a24671-887c-408a-8138-5d3c595a0abe",
        "deepnote_to_be_reexecuted": false,
        "source_hash": "2b730637",
        "execution_millis": 476,
        "execution_start": 1616068789979,
        "deepnote_cell_type": "code"
      },
      "source": "df= df[['Id','Score','all_text']]\ndf_answer = df_answer[['Id','ParentId','Score','Body']]",
      "execution_count": null,
      "outputs": []
    },
    {
      "cell_type": "code",
      "metadata": {
        "tags": [],
        "cell_id": "00005-b206267b-d62f-47d9-88c0-1558335df82a",
        "deepnote_to_be_reexecuted": false,
        "source_hash": "b623e53d",
        "execution_millis": 1,
        "execution_start": 1616068790459,
        "deepnote_cell_type": "code"
      },
      "source": "",
      "execution_count": null,
      "outputs": []
    },
    {
      "cell_type": "code",
      "metadata": {
        "tags": [],
        "cell_id": "00003-d49360ea-a272-446f-a240-58cbf2e75964",
        "deepnote_to_be_reexecuted": false,
        "source_hash": "ab98d2fc",
        "execution_millis": 498,
        "execution_start": 1616068790464,
        "deepnote_cell_type": "code"
      },
      "source": "def bad_question(score):\n    if score < 0:\n        return 1\n    else:\n        return 0\n\ndf['bad_question'] = df['Score'].apply(lambda x: bad_question(x))\n",
      "execution_count": null,
      "outputs": []
    },
    {
      "cell_type": "code",
      "metadata": {
        "tags": [],
        "cell_id": "00004-42407019-dd57-47b0-a809-742c0013ce10",
        "deepnote_to_be_reexecuted": false,
        "source_hash": "f75b3745",
        "execution_millis": 284,
        "execution_start": 1616068790967,
        "deepnote_cell_type": "code"
      },
      "source": "df_questions = df[['all_text', 'bad_question']]\ntrain, test = train_test_split(df_questions, test_size=0.8, random_state=42)",
      "execution_count": null,
      "outputs": []
    },
    {
      "cell_type": "code",
      "metadata": {
        "tags": [],
        "cell_id": "00005-a2f66c67-63e0-4719-8f60-73626667a525",
        "deepnote_to_be_reexecuted": false,
        "source_hash": "e176dc70",
        "execution_millis": 66,
        "execution_start": 1616068791256,
        "deepnote_cell_type": "code"
      },
      "source": "train_bad = train.loc[train['bad_question'] == 1]\ntrain_good = train.loc[train['bad_question'] == 0]",
      "execution_count": null,
      "outputs": []
    },
    {
      "cell_type": "code",
      "metadata": {
        "tags": [],
        "cell_id": "00006-78237bd2-ca37-4d1e-a41b-99f11a2f0c52",
        "deepnote_to_be_reexecuted": false,
        "source_hash": "3cd08068",
        "execution_millis": 40,
        "execution_start": 1616068791331,
        "deepnote_cell_type": "code"
      },
      "source": "len(train_bad)",
      "execution_count": null,
      "outputs": [
        {
          "output_type": "execute_result",
          "execution_count": 9,
          "data": {
            "text/plain": "7261"
          },
          "metadata": {}
        }
      ]
    },
    {
      "cell_type": "code",
      "metadata": {
        "tags": [],
        "cell_id": "00007-7b0a8fc3-0789-4c64-8ca9-f4a087183361",
        "deepnote_to_be_reexecuted": false,
        "source_hash": "451aa904",
        "execution_millis": 11,
        "execution_start": 1616068791368,
        "deepnote_cell_type": "code"
      },
      "source": "len(train_good)",
      "execution_count": null,
      "outputs": [
        {
          "output_type": "execute_result",
          "execution_count": 10,
          "data": {
            "text/plain": "114195"
          },
          "metadata": {}
        }
      ]
    },
    {
      "cell_type": "code",
      "metadata": {
        "tags": [],
        "cell_id": "00008-aaa44e99-662a-4ed5-9dd0-a3efbc8d2646",
        "deepnote_to_be_reexecuted": false,
        "source_hash": "49998b4f",
        "execution_millis": 25,
        "execution_start": 1616068791382,
        "deepnote_cell_type": "code"
      },
      "source": "good_sample = train_good.sample(frac=0.05)\ntrain = good_sample.append(train_bad)",
      "execution_count": null,
      "outputs": []
    },
    {
      "cell_type": "code",
      "metadata": {
        "tags": [],
        "cell_id": "00009-4bae812c-62b3-4d37-85f5-fbc04a8cb3a5",
        "deepnote_to_be_reexecuted": false,
        "source_hash": "53a361cf",
        "execution_millis": 20,
        "execution_start": 1616068791449,
        "deepnote_cell_type": "code"
      },
      "source": "df['all_text'].iloc[0]",
      "execution_count": null,
      "outputs": [
        {
          "output_type": "execute_result",
          "execution_count": 12,
          "data": {
            "text/plain": "\"How can I find the full path to a font from its display name on a Mac? <p>I am using the Photoshop's javascript API to find the fonts in a given PSD.</p>\\n\\n<p>Given a font name returned by the API, I want to find the actual physical font file that that font name corresponds to on the disc.</p>\\n\\n<p>This is all happening in a python program running on OSX so I guess I'm looking for one of:</p>\\n\\n<ul>\\n<li>Some Photoshop javascript</li>\\n<li>A Python function</li>\\n<li>An OSX API that I can call from python</li>\\n</ul>\\n\""
          },
          "metadata": {}
        }
      ]
    },
    {
      "cell_type": "code",
      "metadata": {
        "tags": [],
        "cell_id": "00010-f98dc0f2-f49a-4e4d-8f5d-64d2de279d8c",
        "deepnote_to_be_reexecuted": false,
        "source_hash": "7f81e03b",
        "execution_millis": 4447,
        "execution_start": 1616068791450,
        "deepnote_cell_type": "code"
      },
      "source": "df['all_text'] = df['all_text'].apply(lambda x: re.sub('(\\<code\\>.*?<\\/code\\>)', '', x))",
      "execution_count": null,
      "outputs": []
    },
    {
      "cell_type": "code",
      "metadata": {
        "tags": [],
        "cell_id": "00011-2b37aac9-c1f1-4905-b03f-1058ec34f72f",
        "deepnote_to_be_reexecuted": false,
        "source_hash": "1cf3a23e",
        "execution_millis": 7673,
        "execution_start": 1616068795900,
        "deepnote_cell_type": "code"
      },
      "source": "df['all_text'] = df['all_text'].apply(lambda x: re.sub('<[^>]+>', '', x))",
      "execution_count": null,
      "outputs": []
    },
    {
      "cell_type": "code",
      "metadata": {
        "tags": [],
        "cell_id": "00012-3f06f5fa-eed9-481f-a5c9-abd1381f6c4d",
        "deepnote_to_be_reexecuted": false,
        "source_hash": "53a361cf",
        "execution_millis": 7615,
        "execution_start": 1616068803574,
        "deepnote_cell_type": "code"
      },
      "source": "df['all_text'].iloc[0]",
      "execution_count": null,
      "outputs": [
        {
          "output_type": "execute_result",
          "execution_count": 15,
          "data": {
            "text/plain": "\"How can I find the full path to a font from its display name on a Mac? I am using the Photoshop's javascript API to find the fonts in a given PSD.\\n\\nGiven a font name returned by the API, I want to find the actual physical font file that that font name corresponds to on the disc.\\n\\nThis is all happening in a python program running on OSX so I guess I'm looking for one of:\\n\\n\\nSome Photoshop javascript\\nA Python function\\nAn OSX API that I can call from python\\n\\n\""
          },
          "metadata": {}
        }
      ]
    },
    {
      "cell_type": "code",
      "metadata": {
        "tags": [],
        "cell_id": "00013-bcd0da94-1d6e-4ff1-ad4e-1faa6d719303",
        "deepnote_to_be_reexecuted": false,
        "source_hash": "b1313b25",
        "execution_millis": 7616,
        "execution_start": 1616068803574,
        "deepnote_cell_type": "code"
      },
      "source": "count_vect = CountVectorizer()\nX_train_counts = count_vect.fit_transform(train['all_text'])\nX_train_counts.shape",
      "execution_count": null,
      "outputs": [
        {
          "output_type": "execute_result",
          "execution_count": 16,
          "data": {
            "text/plain": "(12971, 93793)"
          },
          "metadata": {}
        }
      ]
    },
    {
      "cell_type": "code",
      "metadata": {
        "tags": [],
        "cell_id": "00014-0db4aff1-771b-4ae6-a53d-7d4f82170506",
        "deepnote_to_be_reexecuted": false,
        "source_hash": "51aad813",
        "execution_millis": 154,
        "execution_start": 1616068534798,
        "deepnote_cell_type": "code"
      },
      "source": "tfidf_transformer = TfidfTransformer()\nX_train_tfidf = tfidf_transformer.fit_transform(X_train_counts)\nX_train_tfidf.shape",
      "execution_count": null,
      "outputs": [
        {
          "output_type": "execute_result",
          "execution_count": 16,
          "data": {
            "text/plain": "(12971, 96541)"
          },
          "metadata": {}
        }
      ]
    },
    {
      "cell_type": "code",
      "metadata": {
        "tags": [],
        "cell_id": "00015-9bace599-3c93-45ee-a33e-2244107ea09c",
        "deepnote_to_be_reexecuted": false,
        "source_hash": "300e09a2",
        "execution_millis": 144777,
        "execution_start": 1616068921249,
        "deepnote_cell_type": "code"
      },
      "source": "\n\nX_test_counts = count_vect.transform(test['all_text'])\nX_test_tfidf = tfidf_transformer.fit_transform(X_test_counts)\n\n",
      "execution_count": null,
      "outputs": [
        {
          "output_type": "error",
          "ename": "NameError",
          "evalue": "name 'tfidf_transformer' is not defined",
          "traceback": [
            "\u001b[0;31m---------------------------------------------------------------------------\u001b[0m",
            "\u001b[0;31mNameError\u001b[0m                                 Traceback (most recent call last)",
            "\u001b[0;32m<ipython-input-17-456b88e984db>\u001b[0m in \u001b[0;36m<module>\u001b[0;34m\u001b[0m\n\u001b[1;32m      1\u001b[0m \u001b[0mX_test_counts\u001b[0m \u001b[0;34m=\u001b[0m \u001b[0mcount_vect\u001b[0m\u001b[0;34m.\u001b[0m\u001b[0mtransform\u001b[0m\u001b[0;34m(\u001b[0m\u001b[0mtest\u001b[0m\u001b[0;34m[\u001b[0m\u001b[0;34m'all_text'\u001b[0m\u001b[0;34m]\u001b[0m\u001b[0;34m)\u001b[0m\u001b[0;34m\u001b[0m\u001b[0;34m\u001b[0m\u001b[0m\n\u001b[0;32m----> 2\u001b[0;31m \u001b[0mX_test_tfidf\u001b[0m \u001b[0;34m=\u001b[0m \u001b[0mtfidf_transformer\u001b[0m\u001b[0;34m.\u001b[0m\u001b[0mfit_transform\u001b[0m\u001b[0;34m(\u001b[0m\u001b[0mX_test_counts\u001b[0m\u001b[0;34m)\u001b[0m\u001b[0;34m\u001b[0m\u001b[0;34m\u001b[0m\u001b[0m\n\u001b[0m\u001b[1;32m      3\u001b[0m \u001b[0;34m\u001b[0m\u001b[0m\n",
            "\u001b[0;31mNameError\u001b[0m: name 'tfidf_transformer' is not defined"
          ]
        }
      ]
    },
    {
      "cell_type": "code",
      "metadata": {
        "tags": [],
        "cell_id": "00015-8bfa1bb2-8b3c-452e-9e84-46a25a2de62d",
        "deepnote_to_be_reexecuted": true,
        "source_hash": "cba6fe44",
        "execution_millis": 27139,
        "deepnote_cell_type": "code"
      },
      "source": "clf = RandomForestClassifier(n_estimators = 5, n_jobs = -1, verbose=1, class_weight=\"balanced\")\n#clf = MLPClassifier(hidden_layer_sizes = (10, 10), verbose=True, early_stopping=True)\nclf.fit(X_train_tfidf, train['bad_question'])",
      "execution_count": null,
      "outputs": [
        {
          "name": "stderr",
          "text": "[Parallel(n_jobs=-1)]: Using backend ThreadingBackend with 2 concurrent workers.\n[Parallel(n_jobs=-1)]: Done   5 out of   5 | elapsed:   26.8s finished\n",
          "output_type": "stream"
        },
        {
          "output_type": "execute_result",
          "execution_count": 19,
          "data": {
            "text/plain": "RandomForestClassifier(class_weight='balanced', n_estimators=5, n_jobs=-1,\n                       verbose=1)"
          },
          "metadata": {}
        }
      ]
    },
    {
      "cell_type": "code",
      "metadata": {
        "tags": [],
        "cell_id": "00017-9fbc7f34-0659-4c4a-9500-59b9781c800f",
        "deepnote_to_be_reexecuted": true,
        "source_hash": "9fc91b16",
        "execution_millis": 637,
        "deepnote_cell_type": "code"
      },
      "source": "y_pred = clf.predict(X_test_tfidf)\ny_pred_train = clf.predict(X_train_tfidf)",
      "execution_count": null,
      "outputs": [
        {
          "name": "stderr",
          "text": "[Parallel(n_jobs=2)]: Using backend ThreadingBackend with 2 concurrent workers.\n[Parallel(n_jobs=2)]: Done   5 out of   5 | elapsed:    0.1s finished\n[Parallel(n_jobs=2)]: Using backend ThreadingBackend with 2 concurrent workers.\n[Parallel(n_jobs=2)]: Done   5 out of   5 | elapsed:    0.2s finished\n",
          "output_type": "stream"
        }
      ]
    },
    {
      "cell_type": "code",
      "metadata": {
        "tags": [],
        "cell_id": "00018-ce372f4e-c7d8-4d59-bcda-56aa85725a89",
        "deepnote_to_be_reexecuted": true,
        "source_hash": "4843dccb",
        "execution_millis": 27,
        "deepnote_cell_type": "code"
      },
      "source": "precision_recall_fscore_support(train['bad_question'], y_pred_train, average='macro')",
      "execution_count": null,
      "outputs": [
        {
          "output_type": "execute_result",
          "execution_count": 21,
          "data": {
            "text/plain": "(0.9623380524854306, 0.9596773868365458, 0.9608886470486635, None)"
          },
          "metadata": {}
        }
      ]
    },
    {
      "cell_type": "code",
      "metadata": {
        "tags": [],
        "cell_id": "00019-2fdefb26-b488-48ec-8c7d-ea9ae5c10fa4",
        "deepnote_to_be_reexecuted": true,
        "source_hash": "668da9db",
        "execution_millis": 14,
        "deepnote_cell_type": "code"
      },
      "source": "precision_recall_fscore_support(test['bad_question'], y_pred, average='macro')",
      "execution_count": null,
      "outputs": [
        {
          "output_type": "execute_result",
          "execution_count": 22,
          "data": {
            "text/plain": "(0.5184336319052277, 0.5813119930533632, 0.3779575997619574, None)"
          },
          "metadata": {}
        }
      ]
    },
    {
      "cell_type": "code",
      "metadata": {
        "tags": [],
        "cell_id": "00020-59f47c9e-7d64-4e9f-9495-66775949a5dd",
        "deepnote_to_be_reexecuted": true,
        "source_hash": "b623e53d",
        "deepnote_cell_type": "code"
      },
      "source": "",
      "execution_count": null,
      "outputs": []
    },
    {
      "cell_type": "code",
      "metadata": {
        "tags": [],
        "cell_id": "00020-ab7c2d49-72cd-4056-a9d1-d74ddacc9809",
        "deepnote_to_be_reexecuted": true,
        "source_hash": "b623e53d",
        "deepnote_cell_type": "code"
      },
      "source": "",
      "execution_count": null,
      "outputs": []
    },
    {
      "cell_type": "code",
      "metadata": {
        "tags": [],
        "cell_id": "00025-efe609e4-7292-4b1c-b864-c167cff6b1c6",
        "deepnote_to_be_reexecuted": true,
        "source_hash": "57429ae2",
        "execution_millis": 2752,
        "deepnote_cell_type": "code"
      },
      "source": "\n\nfrom sklearn.preprocessing import LabelEncoder\nfrom keras.models import Model\nfrom keras.layers import LSTM, Activation, Dense, Dropout, Input, Embedding\nfrom keras.optimizers import RMSprop\nfrom keras.preprocessing.text import Tokenizer\nfrom keras.preprocessing import sequence\nfrom keras.utils import to_categorical\nfrom keras.callbacks import EarlyStopping\n\n",
      "execution_count": null,
      "outputs": []
    },
    {
      "cell_type": "code",
      "metadata": {
        "tags": [],
        "cell_id": "00026-1707038c-38a4-448b-b274-cb04f675aeea",
        "deepnote_to_be_reexecuted": true,
        "source_hash": "50e0d706",
        "execution_millis": 0,
        "deepnote_cell_type": "code"
      },
      "source": "\n\nX_train = train['all_text']\ny_train = train['bad_question']\nX_test = test['all_text']\ny_test = test['bad_question']\n\n",
      "execution_count": null,
      "outputs": []
    },
    {
      "cell_type": "code",
      "metadata": {
        "tags": [],
        "cell_id": "00027-99918be1-b75f-4cd5-8633-3311ee3101a4",
        "deepnote_to_be_reexecuted": true,
        "source_hash": "aec12721",
        "execution_millis": 16965,
        "deepnote_cell_type": "code"
      },
      "source": "\n\nmax_words = 2000\nmax_len = 150\ntok = Tokenizer(num_words=max_words)\ntok.fit_on_texts(X_train)\nsequences = tok.texts_to_sequences(X_train)\nsequences_matrix = sequence.pad_sequences(sequences,maxlen=max_len)\n\n",
      "execution_count": null,
      "outputs": []
    },
    {
      "cell_type": "code",
      "metadata": {
        "tags": [],
        "cell_id": "00028-104f7d7a-be52-47eb-8473-75d74bf6c9a6",
        "deepnote_to_be_reexecuted": true,
        "source_hash": "7d0fded2",
        "execution_millis": 2,
        "deepnote_cell_type": "code"
      },
      "source": "def RNN():\n    inputs = Input(name='inputs',shape=[max_len])\n    layer = Embedding(max_words,50,input_length=max_len)(inputs)\n    layer = LSTM(64)(layer)\n    layer = Dense(256,name='FC1')(layer)\n    layer = Activation('relu')(layer)\n    layer = Dropout(0.9)(layer)\n    layer = Dense(1,name='out_layer')(layer)\n    layer = Activation('sigmoid')(layer)\n    model = Model(inputs=inputs,outputs=layer)\n    return model",
      "execution_count": null,
      "outputs": []
    },
    {
      "cell_type": "code",
      "metadata": {
        "tags": [],
        "cell_id": "00029-6f8fcefb-c2e9-4b10-acc4-7defb703c13e",
        "deepnote_to_be_reexecuted": true,
        "source_hash": "e23407c5",
        "execution_millis": 306,
        "deepnote_cell_type": "code"
      },
      "source": "model = RNN()\nmodel.summary()\nmodel.compile(loss='binary_crossentropy',optimizer=RMSprop(),metrics=['accuracy'])",
      "execution_count": null,
      "outputs": [
        {
          "name": "stdout",
          "text": "Model: \"model\"\n_________________________________________________________________\nLayer (type)                 Output Shape              Param #   \n=================================================================\ninputs (InputLayer)          [(None, 150)]             0         \n_________________________________________________________________\nembedding (Embedding)        (None, 150, 50)           100000    \n_________________________________________________________________\nlstm (LSTM)                  (None, 64)                29440     \n_________________________________________________________________\nFC1 (Dense)                  (None, 256)               16640     \n_________________________________________________________________\nactivation (Activation)      (None, 256)               0         \n_________________________________________________________________\ndropout (Dropout)            (None, 256)               0         \n_________________________________________________________________\nout_layer (Dense)            (None, 1)                 257       \n_________________________________________________________________\nactivation_1 (Activation)    (None, 1)                 0         \n=================================================================\nTotal params: 146,337\nTrainable params: 146,337\nNon-trainable params: 0\n_________________________________________________________________\n",
          "output_type": "stream"
        }
      ]
    },
    {
      "cell_type": "code",
      "metadata": {
        "tags": [],
        "cell_id": "00030-118cfc04-9894-4a2c-b3d4-1b58319cef0c",
        "deepnote_to_be_reexecuted": true,
        "source_hash": "72893954",
        "execution_millis": 2320804,
        "deepnote_cell_type": "code"
      },
      "source": "history = model.fit(sequences_matrix,y_train,batch_size=128,epochs=5,\n          validation_split=0.2)",
      "execution_count": null,
      "outputs": [
        {
          "name": "stdout",
          "text": "Epoch 1/20\n386/386 [==============================] - 117s 299ms/step - loss: 0.6612 - accuracy: 0.6043 - val_loss: 0.7459 - val_accuracy: 0.4778\nEpoch 2/20\n386/386 [==============================] - 114s 296ms/step - loss: 0.6139 - accuracy: 0.6787 - val_loss: 0.6815 - val_accuracy: 0.6001\nEpoch 3/20\n386/386 [==============================] - 109s 281ms/step - loss: 0.6038 - accuracy: 0.6907 - val_loss: 0.5993 - val_accuracy: 0.7242\nEpoch 4/20\n386/386 [==============================] - 109s 284ms/step - loss: 0.5948 - accuracy: 0.6964 - val_loss: 0.5456 - val_accuracy: 0.7669\nEpoch 5/20\n386/386 [==============================] - 114s 296ms/step - loss: 0.5876 - accuracy: 0.6961 - val_loss: 0.5464 - val_accuracy: 0.7642\nEpoch 6/20\n386/386 [==============================] - 108s 281ms/step - loss: 0.5824 - accuracy: 0.7018 - val_loss: 0.6570 - val_accuracy: 0.6218\nEpoch 7/20\n386/386 [==============================] - 126s 327ms/step - loss: 0.5750 - accuracy: 0.7068 - val_loss: 0.5824 - val_accuracy: 0.7335\nEpoch 8/20\n386/386 [==============================] - 122s 317ms/step - loss: 0.5688 - accuracy: 0.7099 - val_loss: 1.0643 - val_accuracy: 0.4540\nEpoch 9/20\n386/386 [==============================] - 118s 306ms/step - loss: 0.5626 - accuracy: 0.7117 - val_loss: 0.7250 - val_accuracy: 0.6614\nEpoch 10/20\n386/386 [==============================] - 121s 313ms/step - loss: 0.5553 - accuracy: 0.7197 - val_loss: 0.8825 - val_accuracy: 0.4938\nEpoch 11/20\n386/386 [==============================] - 119s 309ms/step - loss: 0.5457 - accuracy: 0.7237 - val_loss: 0.6502 - val_accuracy: 0.6947\nEpoch 12/20\n386/386 [==============================] - 118s 306ms/step - loss: 0.5403 - accuracy: 0.7237 - val_loss: 1.0386 - val_accuracy: 0.4109\nEpoch 13/20\n386/386 [==============================] - 130s 336ms/step - loss: 0.5312 - accuracy: 0.7325 - val_loss: 0.8499 - val_accuracy: 0.6109\nEpoch 14/20\n386/386 [==============================] - 119s 308ms/step - loss: 0.5233 - accuracy: 0.7359 - val_loss: 0.7493 - val_accuracy: 0.6019\nEpoch 15/20\n386/386 [==============================] - 121s 314ms/step - loss: 0.5147 - accuracy: 0.7443 - val_loss: 0.5951 - val_accuracy: 0.6679\nEpoch 16/20\n386/386 [==============================] - 119s 309ms/step - loss: 0.5067 - accuracy: 0.7465 - val_loss: 0.9060 - val_accuracy: 0.4771\nEpoch 17/20\n386/386 [==============================] - 109s 283ms/step - loss: 0.4939 - accuracy: 0.7552 - val_loss: 0.6486 - val_accuracy: 0.6649\nEpoch 18/20\n386/386 [==============================] - 109s 283ms/step - loss: 0.4885 - accuracy: 0.7596 - val_loss: 0.8598 - val_accuracy: 0.4933\nEpoch 19/20\n386/386 [==============================] - 108s 280ms/step - loss: 0.4753 - accuracy: 0.7672 - val_loss: 0.9265 - val_accuracy: 0.5841\nEpoch 20/20\n386/386 [==============================] - 109s 282ms/step - loss: 0.4682 - accuracy: 0.7733 - val_loss: 0.7560 - val_accuracy: 0.6660\n",
          "output_type": "stream"
        }
      ]
    },
    {
      "cell_type": "code",
      "metadata": {
        "tags": [],
        "cell_id": "00031-9a318d42-d2f8-466b-b46c-d4c1eb327472",
        "deepnote_to_be_reexecuted": true,
        "source_hash": "32d1d857",
        "execution_millis": 4103,
        "deepnote_cell_type": "code"
      },
      "source": "test_sequences = tok.texts_to_sequences(X_test)\ntest_sequences_matrix = sequence.pad_sequences(test_sequences,maxlen=max_len)",
      "execution_count": null,
      "outputs": []
    },
    {
      "cell_type": "code",
      "metadata": {
        "tags": [],
        "cell_id": "00032-90e11f09-aea1-4591-b28d-6449819acf4c",
        "deepnote_to_be_reexecuted": true,
        "source_hash": "e1c4c350",
        "execution_millis": 27936,
        "deepnote_cell_type": "code"
      },
      "source": "\n\ny_hat = model.predict(test_sequences_matrix, verbose = 1)\n\n",
      "execution_count": null,
      "outputs": [
        {
          "name": "stdout",
          "text": "949/949 [==============================] - 28s 29ms/step\n",
          "output_type": "stream"
        }
      ]
    },
    {
      "cell_type": "code",
      "metadata": {
        "tags": [],
        "cell_id": "00033-3d493234-62d0-49e9-9efc-9300650eeb9b",
        "deepnote_to_be_reexecuted": true,
        "source_hash": "7e009811",
        "execution_millis": 55,
        "deepnote_cell_type": "code"
      },
      "source": "\n\ny_hat[y_hat > 0.5] = 1\ny_hat[y_hat <= 0.5] = 0\nprecision_recall_fscore_support(y_test, y_hat, average='macro')\n\n",
      "execution_count": null,
      "outputs": [
        {
          "output_type": "execute_result",
          "execution_count": 31,
          "data": {
            "text/plain": "(0.5327501386682802, 0.6408156064860984, 0.4607837105337105, None)"
          },
          "metadata": {}
        }
      ]
    },
    {
      "cell_type": "code",
      "metadata": {
        "tags": [],
        "cell_id": "00034-7eb44f3a-eae2-4e20-a964-a9f5b7ac9974",
        "deepnote_to_be_reexecuted": true,
        "source_hash": "f1a2953",
        "execution_millis": 367,
        "deepnote_cell_type": "code"
      },
      "source": "plt.plot(history.history['loss'])\nplt.plot(history.history['loss'])\nplt.title('model accuracy')\nplt.ylabel('accuracy')\nplt.xlabel('epoch')\nplt.legend(['train', 'test'], loc='upper left')\nplt.show()\n# summarize history for loss\nplt.plot(history.history['loss'])\nplt.plot(history.history['val_loss'])\nplt.title('model loss')\nplt.ylabel('loss')\nplt.xlabel('epoch')\nplt.legend(['train', 'test'], loc='upper left')\nplt.show()",
      "execution_count": null,
      "outputs": [
        {
          "data": {
            "text/plain": "<Figure size 432x288 with 1 Axes>",
            "image/png": "[encoded data removed]"
          },
          "metadata": {
            "needs_background": "light"
          },
          "output_type": "display_data"
        },
        {
          "data": {
            "text/plain": "<Figure size 432x288 with 1 Axes>",
            "image/png": "[encoded data removed]"
          },
          "metadata": {
            "needs_background": "light"
          },
          "output_type": "display_data"
        }
      ]
    },
    {
      "cell_type": "code",
      "metadata": {
        "tags": [],
        "cell_id": "00035-51c51907-4e5f-4411-9421-ce8e81daf4a9",
        "deepnote_to_be_reexecuted": true,
        "source_hash": "b623e53d",
        "execution_millis": 1,
        "deepnote_cell_type": "code"
      },
      "source": "",
      "execution_count": null,
      "outputs": []
    },
    {
      "cell_type": "code",
      "metadata": {
        "tags": [],
        "cell_id": "00036-5207510e-f31f-4b00-aafd-706beaa95d63",
        "deepnote_to_be_reexecuted": true,
        "source_hash": "b623e53d",
        "deepnote_cell_type": "code"
      },
      "source": "",
      "execution_count": null,
      "outputs": []
    },
    {
      "cell_type": "code",
      "metadata": {
        "tags": [],
        "cell_id": "00037-36f65888-32d5-4499-9d1e-1c417703f0db",
        "deepnote_to_be_reexecuted": true,
        "source_hash": "b623e53d",
        "deepnote_cell_type": "code"
      },
      "source": "",
      "execution_count": null,
      "outputs": []
    },
    {
      "cell_type": "code",
      "metadata": {
        "tags": [],
        "cell_id": "00038-2c0307f7-b78a-4755-aa1c-a4fd30fe1a87",
        "deepnote_to_be_reexecuted": true,
        "source_hash": "b623e53d",
        "deepnote_cell_type": "code"
      },
      "source": "",
      "execution_count": null,
      "outputs": []
    },
    {
      "cell_type": "code",
      "metadata": {
        "tags": [],
        "cell_id": "00039-b3b33911-c26d-41c7-b6bc-7fc2b2fd7735",
        "deepnote_to_be_reexecuted": true,
        "source_hash": "b623e53d",
        "deepnote_cell_type": "code"
      },
      "source": "",
      "execution_count": null,
      "outputs": []
    },
    {
      "cell_type": "markdown",
      "source": "<a style='text-decoration:none;line-height:16px;display:flex;color:#5B5B62;padding:10px;justify-content:end;' href='https://deepnote.com?utm_source=created-in-deepnote-cell&projectId=3c29a683-71a2-405c-b0ad-9e789f7cae87' target=\"_blank\">\n<img style='display:inline;max-height:16px;margin:0px;margin-right:7.5px;' src='data:image/svg+xml;base64,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' > </img>\nCreated in <span style='font-weight:600;margin-left:4px;'>Deepnote</span></a>",
      "metadata": {
        "tags": [],
        "created_in_deepnote_cell": true,
        "deepnote_cell_type": "markdown"
      }
    }
  ],
  "nbformat": 4,
  "nbformat_minor": 2,
  "metadata": {
    "orig_nbformat": 2,
    "deepnote_notebook_id": "13058931-4c4e-4996-8fb8-64a8d9005d9b",
    "deepnote": {},
    "deepnote_execution_queue": []
  }
}