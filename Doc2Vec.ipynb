{
  "cells": [
    {
      "cell_type": "markdown",
      "source": "# Import & show data",
      "metadata": {
        "tags": [],
        "cell_id": "00000-40582058-1728-458d-802a-7030eed415a4",
        "deepnote_cell_type": "markdown"
      }
    },
    {
      "cell_type": "code",
      "metadata": {
        "tags": [],
        "deepnote_to_be_reexecuted": false,
        "source_hash": "e365cde6",
        "execution_millis": 173,
        "cell_id": "00001-ee2b1133-2236-4cb5-a3ca-2ff543e2af0b",
        "execution_start": 1616233455065,
        "deepnote_cell_type": "code"
      },
      "source": "import pandas as pd\nimport numpy as np\nfrom bs4 import BeautifulSoup\nimport matplotlib.pyplot as plt\nimport nltk\nfrom nltk.corpus import stopwords\nimport gensim\nfrom gensim.models import Word2Vec\nfrom gensim.utils import simple_preprocess\nfrom gensim.models import FastText\nfrom gensim.models import TfidfModel\nfrom gensim.corpora import Dictionary\nfrom sklearn.neighbors import NearestNeighbors",
      "execution_count": null,
      "outputs": [
        {
          "output_type": "error",
          "ename": "ModuleNotFoundError",
          "evalue": "No module named 'bs4'",
          "traceback": [
            "\u001b[0;31m---------------------------------------------------------------------------\u001b[0m",
            "\u001b[0;31mModuleNotFoundError\u001b[0m                       Traceback (most recent call last)",
            "\u001b[0;32m<ipython-input-1-2ac63671dcfd>\u001b[0m in \u001b[0;36m<module>\u001b[0;34m\u001b[0m\n\u001b[1;32m      1\u001b[0m \u001b[0;32mimport\u001b[0m \u001b[0mpandas\u001b[0m \u001b[0;32mas\u001b[0m \u001b[0mpd\u001b[0m\u001b[0;34m\u001b[0m\u001b[0;34m\u001b[0m\u001b[0m\n\u001b[1;32m      2\u001b[0m \u001b[0;32mimport\u001b[0m \u001b[0mnumpy\u001b[0m \u001b[0;32mas\u001b[0m \u001b[0mnp\u001b[0m\u001b[0;34m\u001b[0m\u001b[0;34m\u001b[0m\u001b[0m\n\u001b[0;32m----> 3\u001b[0;31m \u001b[0;32mfrom\u001b[0m \u001b[0mbs4\u001b[0m \u001b[0;32mimport\u001b[0m \u001b[0mBeautifulSoup\u001b[0m\u001b[0;34m\u001b[0m\u001b[0;34m\u001b[0m\u001b[0m\n\u001b[0m\u001b[1;32m      4\u001b[0m \u001b[0;32mimport\u001b[0m \u001b[0mmatplotlib\u001b[0m\u001b[0;34m.\u001b[0m\u001b[0mpyplot\u001b[0m \u001b[0;32mas\u001b[0m \u001b[0mplt\u001b[0m\u001b[0;34m\u001b[0m\u001b[0;34m\u001b[0m\u001b[0m\n\u001b[1;32m      5\u001b[0m \u001b[0;32mimport\u001b[0m \u001b[0mnltk\u001b[0m\u001b[0;34m\u001b[0m\u001b[0;34m\u001b[0m\u001b[0m\n",
            "\u001b[0;31mModuleNotFoundError\u001b[0m: No module named 'bs4'"
          ]
        }
      ]
    },
    {
      "cell_type": "code",
      "metadata": {
        "tags": [],
        "deepnote_to_be_reexecuted": true,
        "source_hash": "6a25278",
        "execution_millis": 396,
        "cell_id": "00002-583fd725-84a1-44d8-ae17-87041c5c3237",
        "deepnote_cell_type": "code"
      },
      "source": "df = pd.read_csv('../data/Questions.csv', encoding = \"ISO-8859-1\", nrows=30000, usecols=['Id', 'Title', 'Body'])\ndf.shape",
      "execution_count": null,
      "outputs": [
        {
          "output_type": "execute_result",
          "execution_count": 3,
          "data": {
            "text/plain": "(30000, 3)"
          },
          "metadata": {}
        }
      ]
    },
    {
      "cell_type": "code",
      "metadata": {
        "tags": [],
        "cell_id": "00003-f716415b-e39e-4413-9c85-710868be8c93",
        "deepnote_to_be_reexecuted": true,
        "source_hash": "78003e3f",
        "execution_millis": 8,
        "deepnote_cell_type": "code"
      },
      "source": "#Let's take a look at some of the questions\nprint('Question1: ', df.iloc[0, 2])\nprint('Question2: ', df.iloc[1, 2])\nprint('Question3: ', df.iloc[2, 2])",
      "execution_count": null,
      "outputs": [
        {
          "name": "stdout",
          "text": "Question1:  <p>I am using the Photoshop's javascript API to find the fonts in a given PSD.</p>\n\n<p>Given a font name returned by the API, I want to find the actual physical font file that that font name corresponds to on the disc.</p>\n\n<p>This is all happening in a python program running on OSX so I guess I'm looking for one of:</p>\n\n<ul>\n<li>Some Photoshop javascript</li>\n<li>A Python function</li>\n<li>An OSX API that I can call from python</li>\n</ul>\n\nQuestion2:  <p>I have a cross-platform (Python) application which needs to generate a JPEG preview of the first page of a PDF.</p>\n\n<p>On the Mac I am spawning <a href=\"http://developer.apple.com/documentation/Darwin/Reference/ManPages/man1/sips.1.html\">sips</a>.  Is there something similarly simple I can do on Windows?</p>\n\nQuestion3:  <p>I'm starting work on a hobby project with a python codebase and would like to set up some form of continuous integration (i.e. running a battery of test-cases each time a check-in is made and sending nag e-mails to responsible persons when the tests fail) similar to CruiseControl or TeamCity.</p>\n\n<p>I realize I could do this with hooks in most VCSes, but that requires that the tests run on the same machine as the version control server, which isn't as elegant as I would like. Does anyone have any suggestions for a small, user-friendly, open-source continuous integration system suitable for a Python codebase?</p>\n\n",
          "output_type": "stream"
        }
      ]
    },
    {
      "cell_type": "markdown",
      "source": "# Preprocessing",
      "metadata": {
        "tags": [],
        "cell_id": "00004-ad4287b4-cd30-4b91-9931-d6aedf887b2c",
        "deepnote_cell_type": "markdown"
      }
    },
    {
      "cell_type": "code",
      "metadata": {
        "tags": [],
        "cell_id": "00005-f20dd59e-d669-4f4a-a49f-1bb49c6f7389",
        "deepnote_to_be_reexecuted": true,
        "source_hash": "62991044",
        "execution_millis": 13960,
        "deepnote_cell_type": "code"
      },
      "source": "#Using beautiful soup to grab text inside 'p' tags and concatenate it\ndef get_question(html_text):\n  soup = BeautifulSoup(html_text, 'lxml')\n  question = ' '.join([t.text for t in soup.find_all('p')]) #concatenating all p tags\n  return question\n\n#Transforming questions to list for ease of processing\nquestion_list = df['Body'].apply(get_question).values.tolist()",
      "execution_count": null,
      "outputs": []
    },
    {
      "cell_type": "code",
      "metadata": {
        "tags": [],
        "cell_id": "00005-b9b307dd-d734-42c8-9f6e-95bcbdeb85aa",
        "deepnote_to_be_reexecuted": true,
        "source_hash": "e4eb30aa",
        "execution_millis": 7,
        "deepnote_cell_type": "code"
      },
      "source": "question_list[0]",
      "execution_count": null,
      "outputs": [
        {
          "output_type": "execute_result",
          "execution_count": 6,
          "data": {
            "text/plain": "\"I am using the Photoshop's javascript API to find the fonts in a given PSD. Given a font name returned by the API, I want to find the actual physical font file that that font name corresponds to on the disc. This is all happening in a python program running on OSX so I guess I'm looking for one of:\""
          },
          "metadata": {}
        }
      ]
    },
    {
      "cell_type": "code",
      "metadata": {
        "tags": [],
        "cell_id": "00008-affb1be8-9aec-4efa-bbd6-af47b0c46ee0",
        "deepnote_to_be_reexecuted": true,
        "source_hash": "58475661",
        "execution_millis": 6434,
        "deepnote_cell_type": "code"
      },
      "source": "#Tokenizing with simple preprocess gensim's simple preprocess\ndef sent_to_words(sentences):\n    for sentence in sentences:\n        yield(simple_preprocess(str(sentence), deacc=True)) # returns lowercase tokens, ignoring tokens that are too short or too long\n\nquestion_words = list(sent_to_words(question_list))",
      "execution_count": null,
      "outputs": []
    },
    {
      "cell_type": "code",
      "metadata": {
        "tags": [],
        "cell_id": "00009-6d1a0752-f865-447d-a68a-19ab8eeaacfb",
        "deepnote_to_be_reexecuted": true,
        "source_hash": "b329e995",
        "execution_millis": 18,
        "deepnote_cell_type": "code"
      },
      "source": "question_words[0][0:10] #first 10 questions tokens",
      "execution_count": null,
      "outputs": [
        {
          "output_type": "execute_result",
          "execution_count": 8,
          "data": {
            "text/plain": "['am', 'using', 'the', 'photoshop', 'javascript']"
          },
          "metadata": {}
        }
      ]
    },
    {
      "cell_type": "code",
      "metadata": {
        "tags": [],
        "cell_id": "00010-b9724ce0-6195-43cc-ad2d-a29bb239d9a5",
        "deepnote_to_be_reexecuted": true,
        "source_hash": "74a9cd7a",
        "execution_millis": 297,
        "deepnote_cell_type": "code"
      },
      "source": "lengths = [len(question) for question in question_words]\nplt.hist(lengths, bins = 25)\nplt.show()\n\nprint('Mean word count of questions is %s' % np.mean(lengths))",
      "execution_count": null,
      "outputs": [
        {
          "data": {
            "text/plain": "<Figure size 432x288 with 1 Axes>",
            "image/png": "[encoded data removed]"
          },
          "metadata": {
            "needs_background": "light"
          },
          "output_type": "display_data"
        },
        {
          "name": "stdout",
          "text": "Mean word count of questions is 80.7959\n",
          "output_type": "stream"
        }
      ]
    },
    {
      "cell_type": "code",
      "metadata": {
        "tags": [],
        "cell_id": "00011-5ef5a427-6a8b-4727-a559-ad4fd3dd5e5e",
        "deepnote_to_be_reexecuted": true,
        "source_hash": "bac5e57d",
        "execution_millis": 4805,
        "deepnote_cell_type": "code"
      },
      "source": "#Getting rid of stopwords\nnltk.download('stopwords')\nstop_words = stopwords.words('english')\n\ndef remove_stopwords(sentence):\n  filtered_words = [word for word in sentence if word not in stop_words]\n  return filtered_words\n\nfiltered_questions = [remove_stopwords(question) for question in question_words]",
      "execution_count": null,
      "outputs": [
        {
          "name": "stderr",
          "text": "[nltk_data] Downloading package stopwords to /root/nltk_data...\n[nltk_data]   Package stopwords is already up-to-date!\n",
          "output_type": "stream"
        }
      ]
    },
    {
      "cell_type": "code",
      "metadata": {
        "tags": [],
        "cell_id": "00012-cde652c4-9b9c-405c-8bfc-eb4f13acd8eb",
        "deepnote_to_be_reexecuted": true,
        "source_hash": "4765c9ab",
        "execution_millis": 361,
        "deepnote_cell_type": "code"
      },
      "source": "#Examining word counts after removal of stop words\n\nlengths = [len(question) for question in filtered_questions]\nplt.hist(lengths, bins = 25)\nplt.show()\n\nprint('Mean word count of questions is %s' % np.mean(lengths))",
      "execution_count": null,
      "outputs": [
        {
          "data": {
            "text/plain": "<Figure size 432x288 with 1 Axes>",
            "image/png": "[encoded data removed]"
          },
          "metadata": {
            "needs_background": "light"
          },
          "output_type": "display_data"
        },
        {
          "name": "stdout",
          "text": "Mean word count of questions is 43.86006666666667\n",
          "output_type": "stream"
        }
      ]
    },
    {
      "cell_type": "code",
      "metadata": {
        "tags": [],
        "cell_id": "00013-319bb507-6d53-442b-b890-6bb007d8a99a",
        "deepnote_to_be_reexecuted": true,
        "source_hash": "58153703",
        "execution_millis": 9,
        "deepnote_cell_type": "code"
      },
      "source": "len(filtered_questions)",
      "execution_count": null,
      "outputs": [
        {
          "output_type": "execute_result",
          "execution_count": 12,
          "data": {
            "text/plain": "30000"
          },
          "metadata": {}
        }
      ]
    },
    {
      "cell_type": "markdown",
      "source": "# Word2Vec",
      "metadata": {
        "tags": [],
        "cell_id": "00014-bf9011ba-bb6d-4d41-9e5d-2f12823acaae",
        "deepnote_cell_type": "markdown"
      }
    },
    {
      "cell_type": "code",
      "metadata": {
        "tags": [],
        "cell_id": "00014-eae8a99f-d309-4146-8c57-de5783cb6996",
        "deepnote_to_be_reexecuted": true,
        "source_hash": "9cef2a5e",
        "execution_millis": 39804,
        "deepnote_cell_type": "code"
      },
      "source": "#Instantiating the model\nn = 50\nmodel = Word2Vec(filtered_questions, size = n, window = 8)\n\n#Training model using questions corpora\nmodel.train(filtered_questions, total_examples=len(filtered_questions), epochs=10)",
      "execution_count": null,
      "outputs": [
        {
          "output_type": "execute_result",
          "execution_count": 13,
          "data": {
            "text/plain": "(11639760, 13158020)"
          },
          "metadata": {}
        }
      ]
    },
    {
      "cell_type": "code",
      "metadata": {
        "tags": [],
        "cell_id": "00016-046a31b2-b35a-46b1-884c-9ec4cabda3d3",
        "deepnote_to_be_reexecuted": true,
        "source_hash": "834ef9d9",
        "execution_millis": 6,
        "deepnote_cell_type": "code"
      },
      "source": "#Let's see how it worked\nword_vectors = model.wv\n\nprint('Words similar to \"array\" are: ', word_vectors.most_similar(positive='array'))\nprint('Words similar to \"database\" are: ', word_vectors.most_similar(positive='database'))",
      "execution_count": null,
      "outputs": [
        {
          "name": "stdout",
          "text": "Words similar to \"array\" are:  [('arrays', 0.8357066512107849), ('matrix', 0.7622703313827515), ('slice', 0.7567591667175293), ('vector', 0.7039409279823303), ('numpy', 0.6967165470123291), ('dimension', 0.6925920248031616), ('vals', 0.686007022857666), ('dtype', 0.6793662309646606), ('dimensional', 0.6712194681167603), ('tuples', 0.6558892130851746)]\nWords similar to \"database\" are:  [('db', 0.858535647392273), ('postgres', 0.7534809112548828), ('postgresql', 0.7294078469276428), ('tables', 0.7065738439559937), ('databases', 0.6823951005935669), ('mysql', 0.6806763410568237), ('mongodb', 0.6664717793464661), ('sql', 0.6640252470970154), ('sqlite', 0.6639286875724792), ('orm', 0.6571938991546631)]\n",
          "output_type": "stream"
        }
      ]
    },
    {
      "cell_type": "markdown",
      "source": "# Fast Text",
      "metadata": {
        "tags": [],
        "cell_id": "00017-b28ce6f9-3337-4a1d-b21f-cf558a53b8b7",
        "deepnote_cell_type": "markdown"
      }
    },
    {
      "cell_type": "code",
      "metadata": {
        "tags": [],
        "cell_id": "00018-3b588aca-b0d6-464f-9251-f0a42ab07915",
        "deepnote_to_be_reexecuted": true,
        "source_hash": "14f0f419",
        "execution_millis": 103819,
        "deepnote_cell_type": "code"
      },
      "source": "ft_model = FastText(filtered_questions, size=n, window=8, min_count=5, workers=2,sg=1)",
      "execution_count": null,
      "outputs": []
    },
    {
      "cell_type": "code",
      "metadata": {
        "tags": [],
        "cell_id": "00019-f6058919-4f36-4fd9-afdc-a47db8f291ea",
        "deepnote_to_be_reexecuted": true,
        "source_hash": "e811475",
        "execution_millis": 478,
        "deepnote_cell_type": "code"
      },
      "source": "print('Words similar to \"array\" are: ', ft_model.wv.most_similar('array'))\nprint('Words similar to \"database\" are: ', ft_model.wv.most_similar('database'))",
      "execution_count": null,
      "outputs": [
        {
          "name": "stdout",
          "text": "Words similar to \"array\" are:  [('my_array', 0.9272624254226685), ('arrays', 0.9211681485176086), ('ndarray', 0.9200512766838074), ('recarray', 0.9138766527175903), ('asarray', 0.9136890172958374), ('arraylist', 0.8996505737304688), ('bitarray', 0.8525915741920471), ('dimension', 0.8439395427703857), ('dimensional', 0.8217208385467529), ('numpy', 0.8197433948516846)]\nWords similar to \"database\" are:  [('databases', 0.9428731799125671), ('db', 0.8704733848571777), ('postgres', 0.8667688965797424), ('database_engine', 0.8575925230979919), ('dbs', 0.8470574617385864), ('postgresql', 0.8461211919784546), ('zodb', 0.8417341709136963), ('psql', 0.8377990126609802), ('innodb', 0.8186637163162231), ('mssql', 0.8179753422737122)]\n",
          "output_type": "stream"
        }
      ]
    },
    {
      "cell_type": "markdown",
      "source": "## TF-IDF",
      "metadata": {
        "tags": [],
        "cell_id": "00020-b71acfeb-aebb-4a74-b84e-75baa0b97390",
        "deepnote_cell_type": "markdown"
      }
    },
    {
      "cell_type": "code",
      "metadata": {
        "tags": [],
        "cell_id": "00021-19154d51-906b-4cd7-9b1b-d9bf16fb2b74",
        "deepnote_to_be_reexecuted": true,
        "source_hash": "e85e601e",
        "execution_millis": 3305,
        "deepnote_cell_type": "code"
      },
      "source": "dct = Dictionary(filtered_questions)  # fit dictionary\ncorpus = [dct.doc2bow(line) for line in filtered_questions]  # convert corpus to BoW format\ntfidf_model = TfidfModel(corpus)  # fit model",
      "execution_count": null,
      "outputs": []
    },
    {
      "cell_type": "code",
      "metadata": {
        "tags": [],
        "cell_id": "00022-fbf2c3fd-f7c9-4663-9688-194b7c3caf50",
        "deepnote_to_be_reexecuted": true,
        "source_hash": "d1d8956f",
        "execution_millis": 2122,
        "deepnote_cell_type": "code"
      },
      "source": "from sklearn.feature_extraction.text import TfidfVectorizer\n\nvectorizer = TfidfVectorizer()\nX = vectorizer.fit_transform(question_list)\nprint(X.shape)",
      "execution_count": null,
      "outputs": [
        {
          "name": "stdout",
          "text": "(30000, 46433)\n",
          "output_type": "stream"
        }
      ]
    },
    {
      "cell_type": "code",
      "metadata": {
        "tags": [],
        "cell_id": "00023-fcfde58b-0c39-427b-99e6-0e218ed8a3b9",
        "deepnote_to_be_reexecuted": true,
        "source_hash": "c017e739",
        "execution_millis": 16,
        "deepnote_cell_type": "code"
      },
      "source": "#To proprely work with scikit's vectorizer\nmerged_questions = [' '.join(question) for question in filtered_questions]\ndocument_names = ['Doc {:d}'.format(i) for i in range(len(merged_questions))]\n\ndef get_tfidf(docs, ngram_range=(1,1), index=None):\n    vect = TfidfVectorizer(stop_words='english', ngram_range=ngram_range)\n    tfidf = vect.fit_transform(docs).todense()\n    return pd.DataFrame(tfidf, columns=vect.get_feature_names(), index=index).T\n\ntfidf = get_tfidf(merged_questions, ngram_range=(1,1), index=document_names)",
      "execution_count": null,
      "outputs": [
        {
          "output_type": "error",
          "ename": "NameError",
          "evalue": "name 'filtered_questions' is not defined",
          "traceback": [
            "\u001b[0;31m---------------------------------------------------------------------------\u001b[0m",
            "\u001b[0;31mNameError\u001b[0m                                 Traceback (most recent call last)",
            "\u001b[0;32m<ipython-input-2-36dcd041b89a>\u001b[0m in \u001b[0;36m<module>\u001b[0;34m\u001b[0m\n\u001b[1;32m      1\u001b[0m \u001b[0;31m#To proprely work with scikit's vectorizer\u001b[0m\u001b[0;34m\u001b[0m\u001b[0;34m\u001b[0m\u001b[0;34m\u001b[0m\u001b[0m\n\u001b[0;32m----> 2\u001b[0;31m \u001b[0mmerged_questions\u001b[0m \u001b[0;34m=\u001b[0m \u001b[0;34m[\u001b[0m\u001b[0;34m' '\u001b[0m\u001b[0;34m.\u001b[0m\u001b[0mjoin\u001b[0m\u001b[0;34m(\u001b[0m\u001b[0mquestion\u001b[0m\u001b[0;34m)\u001b[0m \u001b[0;32mfor\u001b[0m \u001b[0mquestion\u001b[0m \u001b[0;32min\u001b[0m \u001b[0mfiltered_questions\u001b[0m\u001b[0;34m]\u001b[0m\u001b[0;34m\u001b[0m\u001b[0;34m\u001b[0m\u001b[0m\n\u001b[0m\u001b[1;32m      3\u001b[0m \u001b[0mdocument_names\u001b[0m \u001b[0;34m=\u001b[0m \u001b[0;34m[\u001b[0m\u001b[0;34m'Doc {:d}'\u001b[0m\u001b[0;34m.\u001b[0m\u001b[0mformat\u001b[0m\u001b[0;34m(\u001b[0m\u001b[0mi\u001b[0m\u001b[0;34m)\u001b[0m \u001b[0;32mfor\u001b[0m \u001b[0mi\u001b[0m \u001b[0;32min\u001b[0m \u001b[0mrange\u001b[0m\u001b[0;34m(\u001b[0m\u001b[0mlen\u001b[0m\u001b[0;34m(\u001b[0m\u001b[0mmerged_questions\u001b[0m\u001b[0;34m)\u001b[0m\u001b[0;34m)\u001b[0m\u001b[0;34m]\u001b[0m\u001b[0;34m\u001b[0m\u001b[0;34m\u001b[0m\u001b[0m\n\u001b[1;32m      4\u001b[0m \u001b[0;34m\u001b[0m\u001b[0m\n\u001b[1;32m      5\u001b[0m \u001b[0;32mdef\u001b[0m \u001b[0mget_tfidf\u001b[0m\u001b[0;34m(\u001b[0m\u001b[0mdocs\u001b[0m\u001b[0;34m,\u001b[0m \u001b[0mngram_range\u001b[0m\u001b[0;34m=\u001b[0m\u001b[0;34m(\u001b[0m\u001b[0;36m1\u001b[0m\u001b[0;34m,\u001b[0m\u001b[0;36m1\u001b[0m\u001b[0;34m)\u001b[0m\u001b[0;34m,\u001b[0m \u001b[0mindex\u001b[0m\u001b[0;34m=\u001b[0m\u001b[0;32mNone\u001b[0m\u001b[0;34m)\u001b[0m\u001b[0;34m:\u001b[0m\u001b[0;34m\u001b[0m\u001b[0;34m\u001b[0m\u001b[0m\n",
            "\u001b[0;31mNameError\u001b[0m: name 'filtered_questions' is not defined"
          ]
        },
        {
          "output_type": "error",
          "ename": "KernelInterrupted",
          "evalue": "Execution interrupted by the Jupyter kernel.",
          "traceback": [
            "\u001b[0;31m---------------------------------------------------------------------------\u001b[0m",
            "\u001b[0;31mKernelInterrupted\u001b[0m: Execution interrupted by the Jupyter kernel."
          ]
        }
      ]
    },
    {
      "cell_type": "code",
      "metadata": {
        "tags": [],
        "cell_id": "00024-c7c3ffa7-660a-447d-9b8a-a53419875b3f",
        "deepnote_to_be_reexecuted": true,
        "source_hash": "af8677a2",
        "deepnote_cell_type": "code"
      },
      "source": "def get_sent_embs(emb_model):\n    sent_embs = []\n    for desc in range(len(filtered_questions)):\n        sent_emb = np.zeros((1, n))\n        if len(filtered_questions[desc]) > 0:\n            sent_emb = np.zeros((1, n))\n            div = 0\n            model = emb_model\n            for word in filtered_questions[desc]:\n                if word in model.wv.vocab and word in tfidf.index:\n                    word_emb = model.wv[word]\n                    weight = tfidf.loc[word, 'Doc {:d}'.format(desc)]\n                    sent_emb = np.add(sent_emb, word_emb * weight)\n                    div += weight\n                else:\n                    div += 1e-13 #to avoid dividing by 0\n        if div == 0:\n            print(desc)\n\n        sent_emb = np.divide(sent_emb, div)\n        sent_embs.append(sent_emb.flatten())\n    return sent_embs",
      "execution_count": null,
      "outputs": []
    },
    {
      "cell_type": "code",
      "metadata": {
        "tags": [],
        "cell_id": "00025-026fe89b-0995-47d2-bf98-e66aebbf6998",
        "deepnote_to_be_reexecuted": true,
        "source_hash": "ed25dc65",
        "deepnote_cell_type": "code"
      },
      "source": "ft_sent = get_sent_embs(emb_model = ft_model) ",
      "execution_count": null,
      "outputs": []
    },
    {
      "cell_type": "markdown",
      "source": "## Finding Similar Questions",
      "metadata": {
        "tags": [],
        "cell_id": "00026-91a058e3-5cea-4898-b6fd-6810a6a7f578",
        "deepnote_cell_type": "markdown"
      }
    },
    {
      "cell_type": "code",
      "metadata": {
        "tags": [],
        "cell_id": "00026-80095471-88c7-43b0-b023-055c16e5affa",
        "deepnote_to_be_reexecuted": true,
        "source_hash": "46ab9b51",
        "deepnote_cell_type": "code"
      },
      "source": "def get_n_most_similar(interest_index, embeddings, n):\n    \"\"\"\n    Takes the embedding vector of interest, the list with all embeddings, and the number of similar questions to \n    retrieve.\n    Outputs the disctionary IDs and distances\n    \"\"\"\n    nbrs = NearestNeighbors(n_neighbors=n, metric='cosine').fit(embeddings)\n    distances, indices = nbrs.kneighbors(embeddings)\n    similar_indices = indices[interest_index][1:]\n    similar_distances = distances[interest_index][1:]\n    return similar_indices, similar_distances\n\ndef print_similar(interest_index, embeddings, n):\n    \"\"\"\n    Convenience function for visual analysis\n    \"\"\"\n    closest_ind, closest_dist = get_n_most_similar(interest_index, embeddings, n)\n    print('Question %s \\n \\n is most similar to these %s questions: \\n' % (question_list[interest_index], n))\n    for question in closest_ind:\n        print('ID ', question, ': ',question_list[question])",
      "execution_count": null,
      "outputs": []
    },
    {
      "cell_type": "code",
      "metadata": {
        "tags": [],
        "cell_id": "00028-ed0d63ae-a492-42d6-aded-31b69ceda7bb",
        "deepnote_to_be_reexecuted": true,
        "source_hash": "5e4b305f",
        "deepnote_cell_type": "code"
      },
      "source": "print_similar(42, ft_sent, 5)",
      "execution_count": null,
      "outputs": []
    },
    {
      "cell_type": "markdown",
      "source": "## Doc2Vec",
      "metadata": {
        "tags": [],
        "cell_id": "00029-0dac08b3-5343-45f6-8b96-0605eeceb209",
        "deepnote_cell_type": "markdown"
      }
    },
    {
      "cell_type": "code",
      "metadata": {
        "tags": [],
        "cell_id": "00029-9ecab4f1-3fbe-4343-916a-7180c724537e",
        "deepnote_to_be_reexecuted": true,
        "source_hash": "3602ae5a",
        "deepnote_cell_type": "code"
      },
      "source": "from gensim.models.doc2vec import Doc2Vec, TaggedDocument\n\ndocuments = [TaggedDocument(doc, [i]) for i, doc in enumerate(filtered_questions)]\nmodel = Doc2Vec(documents, vector_size=n, window=8, min_count=5, workers=2, dm = 1, epochs=20)",
      "execution_count": null,
      "outputs": []
    },
    {
      "cell_type": "code",
      "metadata": {
        "tags": [],
        "cell_id": "00031-fb60f52e-bde4-41a5-9cdb-d286d32a8f88",
        "deepnote_to_be_reexecuted": true,
        "source_hash": "5924dd8b",
        "deepnote_cell_type": "code"
      },
      "source": "print(question_list[42], ' \\nis similar to \\n')\nprint([question_list[similar[0]] for similar in model.docvecs.most_similar(42)])",
      "execution_count": null,
      "outputs": []
    },
    {
      "cell_type": "code",
      "metadata": {
        "tags": [],
        "cell_id": "00032-7060962c-e448-416e-81ac-0adc979349ac",
        "deepnote_to_be_reexecuted": true,
        "source_hash": "52f63a76",
        "deepnote_cell_type": "code"
      },
      "source": "print_similar(90, ft_sent, 5)",
      "execution_count": null,
      "outputs": []
    },
    {
      "cell_type": "markdown",
      "source": "<a style='text-decoration:none;line-height:16px;display:flex;color:#5B5B62;padding:10px;justify-content:end;' href='https://deepnote.com?utm_source=created-in-deepnote-cell&projectId=3c29a683-71a2-405c-b0ad-9e789f7cae87' target=\"_blank\">\n<img style='display:inline;max-height:16px;margin:0px;margin-right:7.5px;' src='data:image/svg+xml;base64,PD94bWwgdmVyc2lvbj0iMS4wIiBlbmNvZGluZz0iVVRGLTgiPz4KPHN2ZyB3aWR0aD0iODBweCIgaGVpZ2h0PSI4MHB4IiB2aWV3Qm94PSIwIDAgODAgODAiIHZlcnNpb249IjEuMSIgeG1sbnM9Imh0dHA6Ly93d3cudzMub3JnLzIwMDAvc3ZnIiB4bWxuczp4bGluaz0iaHR0cDovL3d3dy53My5vcmcvMTk5OS94bGluayI+CiAgICA8IS0tIEdlbmVyYXRvcjogU2tldGNoIDU0LjEgKDc2NDkwKSAtIGh0dHBzOi8vc2tldGNoYXBwLmNvbSAtLT4KICAgIDx0aXRsZT5Hcm91cCAzPC90aXRsZT4KICAgIDxkZXNjPkNyZWF0ZWQgd2l0aCBTa2V0Y2guPC9kZXNjPgogICAgPGcgaWQ9IkxhbmRpbmciIHN0cm9rZT0ibm9uZSIgc3Ryb2tlLXdpZHRoPSIxIiBmaWxsPSJub25lIiBmaWxsLXJ1bGU9ImV2ZW5vZGQiPgogICAgICAgIDxnIGlkPSJBcnRib2FyZCIgdHJhbnNmb3JtPSJ0cmFuc2xhdGUoLTEyMzUuMDAwMDAwLCAtNzkuMDAwMDAwKSI+CiAgICAgICAgICAgIDxnIGlkPSJHcm91cC0zIiB0cmFuc2Zvcm09InRyYW5zbGF0ZSgxMjM1LjAwMDAwMCwgNzkuMDAwMDAwKSI+CiAgICAgICAgICAgICAgICA8cG9seWdvbiBpZD0iUGF0aC0yMCIgZmlsbD0iIzAyNjVCNCIgcG9pbnRzPSIyLjM3NjIzNzYyIDgwIDM4LjA0NzY2NjcgODAgNTcuODIxNzgyMiA3My44MDU3NTkyIDU3LjgyMTc4MjIgMzIuNzU5MjczOSAzOS4xNDAyMjc4IDMxLjY4MzE2ODMiPjwvcG9seWdvbj4KICAgICAgICAgICAgICAgIDxwYXRoIGQ9Ik0zNS4wMDc3MTgsODAgQzQyLjkwNjIwMDcsNzYuNDU0OTM1OCA0Ny41NjQ5MTY3LDcxLjU0MjI2NzEgNDguOTgzODY2LDY1LjI2MTk5MzkgQzUxLjExMjI4OTksNTUuODQxNTg0MiA0MS42NzcxNzk1LDQ5LjIxMjIyODQgMjUuNjIzOTg0Niw0OS4yMTIyMjg0IEMyNS40ODQ5Mjg5LDQ5LjEyNjg0NDggMjkuODI2MTI5Niw0My4yODM4MjQ4IDM4LjY0NzU4NjksMzEuNjgzMTY4MyBMNzIuODcxMjg3MSwzMi41NTQ0MjUgTDY1LjI4MDk3Myw2Ny42NzYzNDIxIEw1MS4xMTIyODk5LDc3LjM3NjE0NCBMMzUuMDA3NzE4LDgwIFoiIGlkPSJQYXRoLTIyIiBmaWxsPSIjMDAyODY4Ij48L3BhdGg+CiAgICAgICAgICAgICAgICA8cGF0aCBkPSJNMCwzNy43MzA0NDA1IEwyNy4xMTQ1MzcsMC4yNTcxMTE0MzYgQzYyLjM3MTUxMjMsLTEuOTkwNzE3MDEgODAsMTAuNTAwMzkyNyA4MCwzNy43MzA0NDA1IEM4MCw2NC45NjA0ODgyIDY0Ljc3NjUwMzgsNzkuMDUwMzQxNCAzNC4zMjk1MTEzLDgwIEM0Ny4wNTUzNDg5LDc3LjU2NzA4MDggNTMuNDE4MjY3Nyw3MC4zMTM2MTAzIDUzLjQxODI2NzcsNTguMjM5NTg4NSBDNTMuNDE4MjY3Nyw0MC4xMjg1NTU3IDM2LjMwMzk1NDQsMzcuNzMwNDQwNSAyNS4yMjc0MTcsMzcuNzMwNDQwNSBDMTcuODQzMDU4NiwzNy43MzA0NDA1IDkuNDMzOTE5NjYsMzcuNzMwNDQwNSAwLDM3LjczMDQ0MDUgWiIgaWQ9IlBhdGgtMTkiIGZpbGw9IiMzNzkzRUYiPjwvcGF0aD4KICAgICAgICAgICAgPC9nPgogICAgICAgIDwvZz4KICAgIDwvZz4KPC9zdmc+' > </img>\nCreated in <span style='font-weight:600;margin-left:4px;'>Deepnote</span></a>",
      "metadata": {
        "tags": [],
        "created_in_deepnote_cell": true,
        "deepnote_cell_type": "markdown"
      }
    }
  ],
  "nbformat": 4,
  "nbformat_minor": 2,
  "metadata": {
    "orig_nbformat": 2,
    "deepnote_notebook_id": "8c105d8e-e1ed-4ee6-884a-7a3fc11b7723",
    "deepnote_execution_queue": [],
    "deepnote": {}
  }
}