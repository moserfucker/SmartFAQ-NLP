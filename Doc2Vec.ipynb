{
  "cells": [
    {
      "cell_type": "markdown",
      "source": "# Import & show data",
      "metadata": {
        "tags": [],
        "cell_id": "00000-40582058-1728-458d-802a-7030eed415a4",
        "deepnote_cell_type": "markdown"
      }
    },
    {
      "cell_type": "code",
      "source": "!pip install bs4==0.0.1",
      "metadata": {
        "tags": [],
        "cell_id": "00001-aaf52188-54a1-4484-a727-09cc52e7f616",
        "deepnote_to_be_reexecuted": false,
        "source_hash": "6c3283c9",
        "execution_start": 1616664491824,
        "execution_millis": 5923,
        "deepnote_cell_type": "code"
      },
      "outputs": [
        {
          "name": "stdout",
          "text": "Collecting bs4==0.0.1\n  Using cached bs4-0.0.1.tar.gz (1.1 kB)\nCollecting beautifulsoup4\n  Downloading beautifulsoup4-4.9.3-py3-none-any.whl (115 kB)\n\u001b[K     |████████████████████████████████| 115 kB 27.9 MB/s \n\u001b[?25hCollecting soupsieve>1.2; python_version >= \"3.0\"\n  Downloading soupsieve-2.2.1-py3-none-any.whl (33 kB)\nBuilding wheels for collected packages: bs4\n  Building wheel for bs4 (setup.py) ... \u001b[?25ldone\n\u001b[?25h  Created wheel for bs4: filename=bs4-0.0.1-py3-none-any.whl size=1273 sha256=7eca9766c4525fc1a9ffa4df718286307cd00fc707d79e78cbd295d6fe37697a\n  Stored in directory: /root/.cache/pip/wheels/0a/9e/ba/20e5bbc1afef3a491f0b3bb74d508f99403aabe76eda2167ca\nSuccessfully built bs4\nInstalling collected packages: soupsieve, beautifulsoup4, bs4\nSuccessfully installed beautifulsoup4-4.9.3 bs4-0.0.1 soupsieve-2.2.1\n\u001b[33mWARNING: You are using pip version 20.1.1; however, version 21.0.1 is available.\nYou should consider upgrading via the '/root/venv/bin/python -m pip install --upgrade pip' command.\u001b[0m\n",
          "output_type": "stream"
        }
      ],
      "execution_count": 3
    },
    {
      "cell_type": "code",
      "source": "!pip install gensim==3.8.3",
      "metadata": {
        "tags": [],
        "cell_id": "00002-a02f42c6-af2e-4743-a773-0df369ae3470",
        "deepnote_to_be_reexecuted": false,
        "source_hash": "97c41afa",
        "execution_start": 1616664507698,
        "execution_millis": 5919,
        "deepnote_cell_type": "code"
      },
      "outputs": [
        {
          "name": "stdout",
          "text": "Collecting gensim==3.8.3\n  Using cached gensim-3.8.3-cp37-cp37m-manylinux1_x86_64.whl (24.2 MB)\nRequirement already satisfied: numpy>=1.11.3 in /shared-libs/python3.7/py/lib/python3.7/site-packages (from gensim==3.8.3) (1.19.5)\nRequirement already satisfied: scipy>=0.18.1 in /shared-libs/python3.7/py/lib/python3.7/site-packages (from gensim==3.8.3) (1.6.1)\nRequirement already satisfied: smart-open>=1.8.1 in /shared-libs/python3.7/py/lib/python3.7/site-packages (from gensim==3.8.3) (3.0.0)\nRequirement already satisfied: six>=1.5.0 in /shared-libs/python3.7/py-core/lib/python3.7/site-packages (from gensim==3.8.3) (1.15.0)\nRequirement already satisfied: requests in /shared-libs/python3.7/py/lib/python3.7/site-packages (from smart-open>=1.8.1->gensim==3.8.3) (2.25.1)\nRequirement already satisfied: urllib3<1.27,>=1.21.1 in /shared-libs/python3.7/py/lib/python3.7/site-packages (from requests->smart-open>=1.8.1->gensim==3.8.3) (1.26.4)\nRequirement already satisfied: chardet<5,>=3.0.2 in /shared-libs/python3.7/py/lib/python3.7/site-packages (from requests->smart-open>=1.8.1->gensim==3.8.3) (3.0.4)\nRequirement already satisfied: certifi>=2017.4.17 in /shared-libs/python3.7/py/lib/python3.7/site-packages (from requests->smart-open>=1.8.1->gensim==3.8.3) (2020.12.5)\nRequirement already satisfied: idna<3,>=2.5 in /shared-libs/python3.7/py/lib/python3.7/site-packages (from requests->smart-open>=1.8.1->gensim==3.8.3) (2.10)\nInstalling collected packages: gensim\nSuccessfully installed gensim-3.8.3\n\u001b[33mWARNING: You are using pip version 20.1.1; however, version 21.0.1 is available.\nYou should consider upgrading via the '/root/venv/bin/python -m pip install --upgrade pip' command.\u001b[0m\n",
          "output_type": "stream"
        }
      ],
      "execution_count": 5
    },
    {
      "cell_type": "code",
      "metadata": {
        "tags": [],
        "deepnote_to_be_reexecuted": false,
        "source_hash": "5a589168",
        "execution_millis": 915,
        "cell_id": "00001-ee2b1133-2236-4cb5-a3ca-2ff543e2af0b",
        "execution_start": 1616664518367,
        "deepnote_cell_type": "code"
      },
      "source": "import pandas as pd\nimport numpy as np\nimport bs4\nfrom bs4 import BeautifulSoup\nimport matplotlib.pyplot as plt\nimport nltk\nfrom nltk.corpus import stopwords\nimport gensim\nfrom gensim.models import Word2Vec\nfrom gensim.utils import simple_preprocess\nfrom gensim.models import FastText\nfrom gensim.models import TfidfModel\nfrom gensim.corpora import Dictionary\nfrom sklearn.neighbors import NearestNeighbors",
      "execution_count": 6,
      "outputs": []
    },
    {
      "cell_type": "code",
      "metadata": {
        "tags": [],
        "deepnote_to_be_reexecuted": false,
        "source_hash": "75418280",
        "execution_millis": 442,
        "cell_id": "00002-583fd725-84a1-44d8-ae17-87041c5c3237",
        "execution_start": 1616664550779,
        "deepnote_cell_type": "code"
      },
      "source": "df = pd.read_csv('../data/Questions.csv', encoding = \"ISO-8859-1\", nrows=30000, usecols=['Id', 'Title'])\ndf.shape",
      "execution_count": 7,
      "outputs": [
        {
          "output_type": "execute_result",
          "execution_count": 7,
          "data": {
            "text/plain": "(30000, 2)"
          },
          "metadata": {}
        }
      ]
    },
    {
      "cell_type": "code",
      "metadata": {
        "tags": [],
        "cell_id": "00003-f716415b-e39e-4413-9c85-710868be8c93",
        "deepnote_to_be_reexecuted": false,
        "source_hash": "75adc1d6",
        "execution_millis": 6,
        "execution_start": 1616664640401,
        "deepnote_cell_type": "code"
      },
      "source": "#Let's take a look at some of the questions\nprint('Question1: ', df.iloc[0, 1])\nprint('Question2: ', df.iloc[1, 1])\nprint('Question3: ', df.iloc[2, 1])",
      "execution_count": 12,
      "outputs": [
        {
          "name": "stdout",
          "text": "Question1:  How can I find the full path to a font from its display name on a Mac?\nQuestion2:  Get a preview JPEG of a PDF on Windows?\nQuestion3:  Continuous Integration System for a Python Codebase\n",
          "output_type": "stream"
        }
      ]
    },
    {
      "cell_type": "markdown",
      "source": "# Preprocessing",
      "metadata": {
        "tags": [],
        "cell_id": "00004-ad4287b4-cd30-4b91-9931-d6aedf887b2c",
        "deepnote_cell_type": "markdown"
      }
    },
    {
      "cell_type": "code",
      "metadata": {
        "tags": [],
        "cell_id": "00005-f20dd59e-d669-4f4a-a49f-1bb49c6f7389",
        "deepnote_to_be_reexecuted": false,
        "source_hash": "68724571",
        "execution_millis": 19661,
        "execution_start": 1616664670864,
        "deepnote_cell_type": "code"
      },
      "source": "#Using beautiful soup to grab text inside 'p' tags and concatenate it\ndef get_question(html_text):\n  soup = BeautifulSoup(html_text, 'lxml')\n  question = ' '.join([t.text for t in soup.find_all('p')]) #concatenating all p tags\n  return question\n\n#Transforming questions to list for ease of processing\nquestion_list = df['Title'].apply(get_question).values.tolist()",
      "execution_count": 14,
      "outputs": []
    },
    {
      "cell_type": "code",
      "metadata": {
        "tags": [],
        "cell_id": "00005-b9b307dd-d734-42c8-9f6e-95bcbdeb85aa",
        "deepnote_to_be_reexecuted": false,
        "source_hash": "e4eb30aa",
        "execution_millis": 8,
        "execution_start": 1616664703339,
        "deepnote_cell_type": "code"
      },
      "source": "question_list[0]",
      "execution_count": 15,
      "outputs": [
        {
          "output_type": "execute_result",
          "execution_count": 15,
          "data": {
            "text/plain": "'How can I find the full path to a font from its display name on a Mac?'"
          },
          "metadata": {}
        }
      ]
    },
    {
      "cell_type": "code",
      "metadata": {
        "tags": [],
        "cell_id": "00008-affb1be8-9aec-4efa-bbd6-af47b0c46ee0",
        "deepnote_to_be_reexecuted": false,
        "source_hash": "58475661",
        "execution_millis": 976,
        "execution_start": 1616664706452,
        "deepnote_cell_type": "code"
      },
      "source": "#Tokenizing with simple preprocess gensim's simple preprocess\ndef sent_to_words(sentences):\n    for sentence in sentences:\n        yield(simple_preprocess(str(sentence), deacc=True)) # returns lowercase tokens, ignoring tokens that are too short or too long\n\nquestion_words = list(sent_to_words(question_list))",
      "execution_count": 16,
      "outputs": []
    },
    {
      "cell_type": "code",
      "metadata": {
        "tags": [],
        "cell_id": "00009-6d1a0752-f865-447d-a68a-19ab8eeaacfb",
        "deepnote_to_be_reexecuted": false,
        "source_hash": "e9ad40a9",
        "execution_millis": 26,
        "execution_start": 1616664711562,
        "deepnote_cell_type": "code"
      },
      "source": "question_words[0][0:10] #first 10 questions tokens",
      "execution_count": 17,
      "outputs": [
        {
          "output_type": "execute_result",
          "execution_count": 17,
          "data": {
            "text/plain": "['how', 'can', 'find', 'the', 'full', 'path', 'to', 'font', 'from', 'its']"
          },
          "metadata": {}
        }
      ]
    },
    {
      "cell_type": "code",
      "metadata": {
        "tags": [],
        "cell_id": "00010-b9724ce0-6195-43cc-ad2d-a29bb239d9a5",
        "deepnote_to_be_reexecuted": false,
        "source_hash": "74a9cd7a",
        "execution_millis": 422,
        "execution_start": 1616664714876,
        "deepnote_cell_type": "code"
      },
      "source": "lengths = [len(question) for question in question_words]\nplt.hist(lengths, bins = 25)\nplt.show()\n\nprint('Mean word count of questions is %s' % np.mean(lengths))",
      "execution_count": 18,
      "outputs": [
        {
          "data": {
            "text/plain": "<Figure size 432x288 with 1 Axes>",
            "image/png": "[encoded data removed]"
          },
          "metadata": {
            "needs_background": "light"
          },
          "output_type": "display_data"
        },
        {
          "name": "stdout",
          "text": "Mean word count of questions is 7.8223\n",
          "output_type": "stream"
        }
      ]
    },
    {
      "cell_type": "code",
      "metadata": {
        "tags": [],
        "cell_id": "00011-5ef5a427-6a8b-4727-a559-ad4fd3dd5e5e",
        "deepnote_to_be_reexecuted": false,
        "source_hash": "bac5e57d",
        "execution_millis": 860,
        "execution_start": 1616664717343,
        "deepnote_cell_type": "code"
      },
      "source": "#Getting rid of stopwords\nnltk.download('stopwords')\nstop_words = stopwords.words('english')\n\ndef remove_stopwords(sentence):\n  filtered_words = [word for word in sentence if word not in stop_words]\n  return filtered_words\n\nfiltered_questions = [remove_stopwords(question) for question in question_words]",
      "execution_count": 19,
      "outputs": [
        {
          "name": "stderr",
          "text": "[nltk_data] Downloading package stopwords to /root/nltk_data...\n[nltk_data]   Unzipping corpora/stopwords.zip.\n",
          "output_type": "stream"
        }
      ]
    },
    {
      "cell_type": "code",
      "metadata": {
        "tags": [],
        "cell_id": "00012-cde652c4-9b9c-405c-8bfc-eb4f13acd8eb",
        "deepnote_to_be_reexecuted": false,
        "source_hash": "4765c9ab",
        "execution_millis": 476,
        "execution_start": 1616664720616,
        "deepnote_cell_type": "code"
      },
      "source": "#Examining word counts after removal of stop words\n\nlengths = [len(question) for question in filtered_questions]\nplt.hist(lengths, bins = 25)\nplt.show()\n\nprint('Mean word count of questions is %s' % np.mean(lengths))",
      "execution_count": 20,
      "outputs": [
        {
          "data": {
            "text/plain": "<Figure size 432x288 with 1 Axes>",
            "image/png": "[encoded data removed]"
          },
          "metadata": {
            "needs_background": "light"
          },
          "output_type": "display_data"
        },
        {
          "name": "stdout",
          "text": "Mean word count of questions is 5.3517\n",
          "output_type": "stream"
        }
      ]
    },
    {
      "cell_type": "code",
      "metadata": {
        "tags": [],
        "cell_id": "00013-319bb507-6d53-442b-b890-6bb007d8a99a",
        "deepnote_to_be_reexecuted": false,
        "source_hash": "58153703",
        "execution_millis": 7,
        "execution_start": 1616664728892,
        "deepnote_cell_type": "code"
      },
      "source": "len(filtered_questions)",
      "execution_count": 21,
      "outputs": [
        {
          "output_type": "execute_result",
          "execution_count": 21,
          "data": {
            "text/plain": "30000"
          },
          "metadata": {}
        }
      ]
    },
    {
      "cell_type": "markdown",
      "source": "# Word2Vec",
      "metadata": {
        "tags": [],
        "cell_id": "00014-bf9011ba-bb6d-4d41-9e5d-2f12823acaae",
        "deepnote_cell_type": "markdown"
      }
    },
    {
      "cell_type": "code",
      "metadata": {
        "tags": [],
        "cell_id": "00014-eae8a99f-d309-4146-8c57-de5783cb6996",
        "deepnote_to_be_reexecuted": false,
        "source_hash": "9cef2a5e",
        "execution_millis": 4555,
        "execution_start": 1616664731865,
        "deepnote_cell_type": "code"
      },
      "source": "#Instantiating the model\nn = 50\nmodel = Word2Vec(filtered_questions, size = n, window = 8)\n\n#Training model using questions corpora\nmodel.train(filtered_questions, total_examples=len(filtered_questions), epochs=10)",
      "execution_count": 22,
      "outputs": [
        {
          "output_type": "execute_result",
          "execution_count": 22,
          "data": {
            "text/plain": "(1235034, 1605510)"
          },
          "metadata": {}
        }
      ]
    },
    {
      "cell_type": "code",
      "metadata": {
        "tags": [],
        "cell_id": "00016-046a31b2-b35a-46b1-884c-9ec4cabda3d3",
        "deepnote_to_be_reexecuted": false,
        "source_hash": "834ef9d9",
        "execution_millis": 22,
        "execution_start": 1616664745184,
        "deepnote_cell_type": "code"
      },
      "source": "#Let's see how it worked\nword_vectors = model.wv\n\nprint('Words similar to \"array\" are: ', word_vectors.most_similar(positive='array'))\nprint('Words similar to \"database\" are: ', word_vectors.most_similar(positive='database'))",
      "execution_count": 23,
      "outputs": [
        {
          "name": "stdout",
          "text": "Words similar to \"array\" are:  [('arrays', 0.9218310117721558), ('matrix', 0.9211524724960327), ('dimensional', 0.8458638787269592), ('recarray', 0.8443092703819275), ('numpy', 0.8217630982398987), ('vector', 0.8003685474395752), ('matrices', 0.7973954081535339), ('sparse', 0.7892090082168579), ('nan', 0.7802515029907227), ('operations', 0.7783718109130859)]\nWords similar to \"database\" are:  [('sqlite', 0.8504010438919067), ('sql', 0.8144783973693848), ('stored', 0.7601233720779419), ('db', 0.7546879649162292), ('postgresql', 0.7515819072723389), ('tables', 0.7464178204536438), ('insert', 0.7411580681800842), ('mysql', 0.7378960847854614), ('dump', 0.7288544178009033), ('table', 0.7268080711364746)]\n",
          "output_type": "stream"
        }
      ]
    },
    {
      "cell_type": "markdown",
      "source": "# Fast Text",
      "metadata": {
        "tags": [],
        "cell_id": "00017-b28ce6f9-3337-4a1d-b21f-cf558a53b8b7",
        "deepnote_cell_type": "markdown"
      }
    },
    {
      "cell_type": "code",
      "metadata": {
        "tags": [],
        "cell_id": "00018-3b588aca-b0d6-464f-9251-f0a42ab07915",
        "deepnote_to_be_reexecuted": false,
        "source_hash": "14f0f419",
        "execution_millis": 11810,
        "execution_start": 1616664748417,
        "deepnote_cell_type": "code"
      },
      "source": "ft_model = FastText(filtered_questions, size=n, window=8, min_count=5, workers=2,sg=1)",
      "execution_count": 24,
      "outputs": []
    },
    {
      "cell_type": "code",
      "metadata": {
        "tags": [],
        "cell_id": "00019-f6058919-4f36-4fd9-afdc-a47db8f291ea",
        "deepnote_to_be_reexecuted": false,
        "source_hash": "e811475",
        "execution_millis": 595,
        "execution_start": 1616664760228,
        "deepnote_cell_type": "code"
      },
      "source": "print('Words similar to \"array\" are: ', ft_model.wv.most_similar('array'))\nprint('Words similar to \"database\" are: ', ft_model.wv.most_similar('database'))",
      "execution_count": 25,
      "outputs": [
        {
          "name": "stdout",
          "text": "Words similar to \"array\" are:  [('arrays', 0.9918513894081116), ('ndarray', 0.985777735710144), ('numpy', 0.9747053384780884), ('matrix', 0.9477270245552063), ('recarray', 0.946686863899231), ('matrices', 0.9455903172492981), ('slices', 0.9215148687362671), ('slice', 0.915821373462677), ('two', 0.9136978983879089), ('indices', 0.9110772609710693)]\nWords similar to \"database\" are:  [('databases', 0.9929320812225342), ('dataset', 0.9242563843727112), ('jquery', 0.9200167059898376), ('sqlite', 0.9177411794662476), ('datasets', 0.9104514122009277), ('queries', 0.9094953536987305), ('gqlquery', 0.9049663543701172), ('query', 0.9011733531951904), ('gql', 0.9005076289176941), ('updates', 0.8990510702133179)]\n",
          "output_type": "stream"
        }
      ]
    },
    {
      "cell_type": "markdown",
      "source": "## TF-IDF",
      "metadata": {
        "tags": [],
        "cell_id": "00020-b71acfeb-aebb-4a74-b84e-75baa0b97390",
        "deepnote_cell_type": "markdown"
      }
    },
    {
      "cell_type": "code",
      "metadata": {
        "tags": [],
        "cell_id": "00021-19154d51-906b-4cd7-9b1b-d9bf16fb2b74",
        "deepnote_to_be_reexecuted": false,
        "source_hash": "e85e601e",
        "execution_millis": 1021,
        "execution_start": 1616664760918,
        "deepnote_cell_type": "code"
      },
      "source": "dct = Dictionary(filtered_questions)  # fit dictionary\ncorpus = [dct.doc2bow(line) for line in filtered_questions]  # convert corpus to BoW format\ntfidf_model = TfidfModel(corpus)  # fit model",
      "execution_count": 26,
      "outputs": []
    },
    {
      "cell_type": "code",
      "metadata": {
        "tags": [],
        "cell_id": "00022-fbf2c3fd-f7c9-4663-9688-194b7c3caf50",
        "deepnote_to_be_reexecuted": false,
        "source_hash": "d1d8956f",
        "execution_millis": 367,
        "execution_start": 1616664761962,
        "deepnote_cell_type": "code"
      },
      "source": "from sklearn.feature_extraction.text import TfidfVectorizer\n\nvectorizer = TfidfVectorizer()\nX = vectorizer.fit_transform(question_list)\nprint(X.shape)",
      "execution_count": 27,
      "outputs": [
        {
          "name": "stdout",
          "text": "(30000, 11987)\n",
          "output_type": "stream"
        }
      ]
    },
    {
      "cell_type": "code",
      "metadata": {
        "tags": [],
        "cell_id": "00023-fcfde58b-0c39-427b-99e6-0e218ed8a3b9",
        "deepnote_to_be_reexecuted": false,
        "source_hash": "c017e739",
        "execution_millis": 865,
        "execution_start": 1616664762353,
        "deepnote_cell_type": "code"
      },
      "source": "#To proprely work with scikit's vectorizer\nmerged_questions = [' '.join(question) for question in filtered_questions]\ndocument_names = ['Doc {:d}'.format(i) for i in range(len(merged_questions))]\n\ndef get_tfidf(docs, ngram_range=(1,1), index=None):\n    vect = TfidfVectorizer(stop_words='english', ngram_range=ngram_range)\n    tfidf = vect.fit_transform(docs).todense()\n    return pd.DataFrame(tfidf, columns=vect.get_feature_names(), index=index).T\n\ntfidf = get_tfidf(merged_questions, ngram_range=(1,1), index=document_names)",
      "execution_count": 28,
      "outputs": []
    },
    {
      "cell_type": "code",
      "metadata": {
        "tags": [],
        "cell_id": "00024-c7c3ffa7-660a-447d-9b8a-a53419875b3f",
        "deepnote_to_be_reexecuted": false,
        "source_hash": "af8677a2",
        "execution_start": 1616664765863,
        "execution_millis": 10,
        "deepnote_cell_type": "code"
      },
      "source": "def get_sent_embs(emb_model):\n    sent_embs = []\n    for desc in range(len(filtered_questions)):\n        sent_emb = np.zeros((1, n))\n        if len(filtered_questions[desc]) > 0:\n            sent_emb = np.zeros((1, n))\n            div = 0\n            model = emb_model\n            for word in filtered_questions[desc]:\n                if word in model.wv.vocab and word in tfidf.index:\n                    word_emb = model.wv[word]\n                    weight = tfidf.loc[word, 'Doc {:d}'.format(desc)]\n                    sent_emb = np.add(sent_emb, word_emb * weight)\n                    div += weight\n                else:\n                    div += 1e-13 #to avoid dividing by 0\n        if div == 0:\n            print(desc)\n\n        sent_emb = np.divide(sent_emb, div)\n        sent_embs.append(sent_emb.flatten())\n    return sent_embs",
      "execution_count": 29,
      "outputs": []
    },
    {
      "cell_type": "code",
      "metadata": {
        "tags": [],
        "cell_id": "00025-026fe89b-0995-47d2-bf98-e66aebbf6998",
        "deepnote_to_be_reexecuted": false,
        "source_hash": "ed25dc65",
        "execution_start": 1616664767065,
        "execution_millis": 3479,
        "deepnote_cell_type": "code"
      },
      "source": "ft_sent = get_sent_embs(emb_model = ft_model) ",
      "execution_count": 30,
      "outputs": []
    },
    {
      "cell_type": "markdown",
      "source": "## Finding Similar Questions",
      "metadata": {
        "tags": [],
        "cell_id": "00026-91a058e3-5cea-4898-b6fd-6810a6a7f578",
        "deepnote_cell_type": "markdown"
      }
    },
    {
      "cell_type": "code",
      "metadata": {
        "tags": [],
        "cell_id": "00026-80095471-88c7-43b0-b023-055c16e5affa",
        "deepnote_to_be_reexecuted": false,
        "source_hash": "46ab9b51",
        "execution_start": 1616664775448,
        "execution_millis": 7,
        "deepnote_cell_type": "code"
      },
      "source": "def get_n_most_similar(interest_index, embeddings, n):\n    \"\"\"\n    Takes the embedding vector of interest, the list with all embeddings, and the number of similar questions to \n    retrieve.\n    Outputs the disctionary IDs and distances\n    \"\"\"\n    nbrs = NearestNeighbors(n_neighbors=n, metric='cosine').fit(embeddings)\n    distances, indices = nbrs.kneighbors(embeddings)\n    similar_indices = indices[interest_index][1:]\n    similar_distances = distances[interest_index][1:]\n    return similar_indices, similar_distances\n\ndef print_similar(interest_index, embeddings, n):\n    \"\"\"\n    Convenience function for visual analysis\n    \"\"\"\n    closest_ind, closest_dist = get_n_most_similar(interest_index, embeddings, n)\n    print('Question %s \\n \\n is most similar to these %s questions: \\n' % (question_list[interest_index], n))\n    for question in closest_ind:\n        print('ID ', question, ': ',question_list[question])",
      "execution_count": 31,
      "outputs": []
    },
    {
      "cell_type": "code",
      "metadata": {
        "tags": [],
        "cell_id": "00028-ed0d63ae-a492-42d6-aded-31b69ceda7bb",
        "deepnote_to_be_reexecuted": false,
        "source_hash": "5e4b305f",
        "execution_start": 1616664776224,
        "execution_millis": 22923,
        "deepnote_cell_type": "code"
      },
      "source": "print_similar(42, ft_sent, 5)",
      "execution_count": 32,
      "outputs": [
        {
          "name": "stdout",
          "text": "Question Sanitising user input using Python \n \n is most similar to these 5 questions: \n\nID  28113 :  python: getting user input\nID  10185 :  Reading HKEY CURRENT USER from the registry in Python, specifying the user\nID  27298 :  Using if/elif/else and resp=raw_input - how to respond to part of a user's input?\nID  15506 :  Is it possible to make user input invisible as a 'sudo' password input?\n",
          "output_type": "stream"
        }
      ]
    },
    {
      "cell_type": "markdown",
      "source": "## Doc2Vec",
      "metadata": {
        "tags": [],
        "cell_id": "00029-0dac08b3-5343-45f6-8b96-0605eeceb209",
        "deepnote_cell_type": "markdown"
      }
    },
    {
      "cell_type": "code",
      "metadata": {
        "tags": [],
        "cell_id": "00029-9ecab4f1-3fbe-4343-916a-7180c724537e",
        "deepnote_to_be_reexecuted": false,
        "source_hash": "3602ae5a",
        "execution_start": 1616664799341,
        "execution_millis": 36586,
        "deepnote_cell_type": "code"
      },
      "source": "from gensim.models.doc2vec import Doc2Vec, TaggedDocument\n\ndocuments = [TaggedDocument(doc, [i]) for i, doc in enumerate(filtered_questions)]\nmodel = Doc2Vec(documents, vector_size=n, window=8, min_count=5, workers=2, dm = 1, epochs=20)",
      "execution_count": 33,
      "outputs": []
    },
    {
      "cell_type": "code",
      "metadata": {
        "tags": [],
        "cell_id": "00031-fb60f52e-bde4-41a5-9cdb-d286d32a8f88",
        "deepnote_to_be_reexecuted": false,
        "source_hash": "5924dd8b",
        "execution_start": 1616664835928,
        "execution_millis": 6,
        "deepnote_cell_type": "code"
      },
      "source": "print(question_list[42], ' \\nis similar to \\n')\nprint([question_list[similar[0]] for similar in model.docvecs.most_similar(42)])",
      "execution_count": 34,
      "outputs": [
        {
          "name": "stdout",
          "text": "Sanitising user input using Python  \nis similar to \n\n['Urlretrieve and User-Agent? - Python', 'Stealing Cookies with no user input?', 'Python web devlopment framework for python 3.1 user', 'pyinotify file deletion user', 'Using Javascript to change all textareas in an html page', 'Python - checking if a user has administrator privileges', \"How to save user's daily progress?\", 'How can I have an encrypted input in Python?', 'Django admin - Restrict user view by permission', 'Redirecting a user in a django template']\n",
          "output_type": "stream"
        }
      ]
    },
    {
      "cell_type": "code",
      "metadata": {
        "tags": [],
        "cell_id": "00032-7060962c-e448-416e-81ac-0adc979349ac",
        "deepnote_to_be_reexecuted": false,
        "source_hash": "8c372240",
        "execution_start": 1616664835929,
        "execution_millis": 20556,
        "deepnote_cell_type": "code"
      },
      "source": "print_similar(90, ft_sent, 5)",
      "execution_count": 35,
      "outputs": [
        {
          "name": "stdout",
          "text": "Question How do I make Windows aware of a service I have written in Python? \n \n is most similar to these 5 questions: \n\nID  2500 :  Create a cross-platform protocol helper that runs a python script\nID  18375 :  Crontab job does not start... ideas?\nID  15854 :  Python web frontend, retaining interpreter state\nID  16463 :  Linux development/minimal smtp and pop3 server\n",
          "output_type": "stream"
        }
      ]
    },
    {
      "cell_type": "code",
      "source": "",
      "metadata": {
        "tags": [],
        "cell_id": "00034-80194976-dbef-472e-b369-3ae481d3b444",
        "deepnote_cell_type": "code"
      },
      "outputs": [],
      "execution_count": null
    },
    {
      "cell_type": "markdown",
      "source": "<a style='text-decoration:none;line-height:16px;display:flex;color:#5B5B62;padding:10px;justify-content:end;' href='https://deepnote.com?utm_source=created-in-deepnote-cell&projectId=3c29a683-71a2-405c-b0ad-9e789f7cae87' target=\"_blank\">\n<img style='display:inline;max-height:16px;margin:0px;margin-right:7.5px;' src='data:image/svg+xml;base64,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' > </img>\nCreated in <span style='font-weight:600;margin-left:4px;'>Deepnote</span></a>",
      "metadata": {
        "tags": [],
        "created_in_deepnote_cell": true,
        "deepnote_cell_type": "markdown"
      }
    }
  ],
  "nbformat": 4,
  "nbformat_minor": 2,
  "metadata": {
    "orig_nbformat": 2,
    "deepnote_notebook_id": "8c105d8e-e1ed-4ee6-884a-7a3fc11b7723",
    "deepnote_execution_queue": [],
    "deepnote": {}
  }
}